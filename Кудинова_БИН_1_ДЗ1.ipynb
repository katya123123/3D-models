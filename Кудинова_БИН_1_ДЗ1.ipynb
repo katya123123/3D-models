{
  "nbformat": 4,
  "nbformat_minor": 0,
  "metadata": {
    "colab": {
      "provenance": [],
      "authorship_tag": "ABX9TyMfXzyd5GGB+Cxkk1FvEXuO",
      "include_colab_link": true
    },
    "kernelspec": {
      "name": "python3",
      "display_name": "Python 3"
    },
    "language_info": {
      "name": "python"
    }
  },
  "cells": [
    {
      "cell_type": "markdown",
      "metadata": {
        "id": "view-in-github",
        "colab_type": "text"
      },
      "source": [
        "<a href=\"https://colab.research.google.com/github/katya123123/3d-models/blob/main/%D0%9A%D1%83%D0%B4%D0%B8%D0%BD%D0%BE%D0%B2%D0%B0_%D0%91%D0%98%D0%9D_1_%D0%94%D0%971.ipynb\" target=\"_parent\"><img src=\"https://colab.research.google.com/assets/colab-badge.svg\" alt=\"Open In Colab\"/></a>"
      ]
    },
    {
      "cell_type": "code",
      "execution_count": 1,
      "metadata": {
        "colab": {
          "base_uri": "https://localhost:8080/"
        },
        "id": "Vw2I_Wojp0MN",
        "outputId": "b35e9bff-c2bf-4069-e39e-ffeb3334e828"
      },
      "outputs": [
        {
          "output_type": "stream",
          "name": "stdout",
          "text": [
            "Первое задание\n"
          ]
        }
      ],
      "source": [
        "print(\"Первое задание\")"
      ]
    },
    {
      "cell_type": "code",
      "source": [
        "a = 1\n",
        "b = 2\n",
        "c = a + b\n",
        "print(c)\n",
        "print(a+b)"
      ],
      "metadata": {
        "id": "kzaUGLzTqaUf"
      },
      "execution_count": null,
      "outputs": []
    }
  ]
}